{
 "cells": [
  {
   "cell_type": "code",
   "execution_count": 2,
   "metadata": {},
   "outputs": [],
   "source": [
    "import numpy as np \n",
    "import matplotlib.pyplot as pyplot\n",
    "import pandas as pd\n",
    "import streamlit as st\n",
    "import joblib \n",
    "from sklearn.compose import ColumnTransformer\n",
    "from sklearn.preprocessing import OneHotEncoder, StandardScaler\n",
    "from sklearn.pipeline import Pipeline"
   ]
  },
  {
   "cell_type": "code",
   "execution_count": null,
   "metadata": {},
   "outputs": [],
   "source": [
    "# Define categorical and numerical columns\n",
    "categorical_columns = ['district', 'flat_type']\n",
    "numerical_columns = ['remaining_lease', 'floor_area_sqm', 'range_numeric']\n",
    "\n",
    "# Define preprocessors for numerical and categorical data\n",
    "categorical_transformer = OneHotEncoder(drop='first', sparse_output=False)\n",
    "numerical_transformer = StandardScaler()\n",
    "\n",
    "# Combine into a single preprocessor\n",
    "preprocessor = ColumnTransformer(\n",
    "    transformers=[\n",
    "        ('num', numerical_transformer, numerical_columns),  # Apply scaling to numerical columns\n",
    "        ('cat', categorical_transformer, categorical_columns)  # Apply one-hot encoding to categorical columns\n",
    "    ],\n",
    "    remainder='passthrough'  # Leave other columns as they are\n",
    ")\n",
    "\n",
    "# Display the preprocessor structure\n",
    "print(preprocessor)\n"
   ]
  },
  {
   "cell_type": "code",
   "execution_count": 8,
   "metadata": {},
   "outputs": [],
   "source": [
    "data = pd.read_csv('housing_new.csv')\n",
    "\n"
   ]
  },
  {
   "cell_type": "code",
   "execution_count": 9,
   "metadata": {},
   "outputs": [
    {
     "data": {
      "text/plain": [
       "Index(['flat_type', 'floor_area_sqm', 'lease_commence_date', 'resale_price',\n",
       "       'district', 'range_numeric', 'new_date'],\n",
       "      dtype='object')"
      ]
     },
     "execution_count": 9,
     "metadata": {},
     "output_type": "execute_result"
    }
   ],
   "source": [
    "data = data.drop(columns=['Unnamed: 0', 'Unnamed: 0.1'])\n",
    "data.columns\n"
   ]
  },
  {
   "cell_type": "code",
   "execution_count": 10,
   "metadata": {},
   "outputs": [],
   "source": [
    "data = data[['new_date','flat_type', 'district', 'range_numeric' ,'floor_area_sqm', 'lease_commence_date', 'resale_price',]]"
   ]
  },
  {
   "cell_type": "code",
   "execution_count": 11,
   "metadata": {},
   "outputs": [
    {
     "data": {
      "text/plain": [
       "['preprocessor.pkl']"
      ]
     },
     "execution_count": 11,
     "metadata": {},
     "output_type": "execute_result"
    }
   ],
   "source": [
    "\n",
    "# Define categorical and numerical columns\n",
    "categorical_columns = ['district', 'flat_type']\n",
    "numerical_columns = [ 'floor_area_sqm', 'range_numeric']\n",
    "\n",
    "# Define transformers\n",
    "categorical_transformer = OneHotEncoder(drop = 'first',sparse_output=False, handle_unknown='ignore')\n",
    "numerical_transformer = StandardScaler()\n",
    "\n",
    "# Combine into a ColumnTransformer\n",
    "preprocessor = ColumnTransformer(    \n",
    "    transformers=[\n",
    "        ('num', numerical_transformer, numerical_columns),\n",
    "        ('cat', categorical_transformer, categorical_columns)\n",
    "    ],\n",
    "    remainder= 'passthrough'\n",
    "\n",
    ")\n",
    "\n",
    "# Fit the preprocessor on the full dataset\n",
    "preprocessor.fit(data)\n",
    "\n",
    "# Save the preprocessor for future use\n",
    "joblib.dump(preprocessor, 'preprocessor.pkl')\n",
    "\n",
    "\n",
    " "
   ]
  },
  {
   "cell_type": "code",
   "execution_count": 43,
   "metadata": {},
   "outputs": [],
   "source": [
    "# Transform an example new data point\n",
    "new_data = pd.DataFrame({\n",
    "    'year' : 2100,\n",
    "    'district': ['East'],\n",
    "    'flat_type': ['5 ROOM'],\n",
    "    'remaining_lease': [71],\n",
    "    'floor_area_sqm': [100],\n",
    "    'range_numeric': [2],\n",
    "    'lease_commence_date': [1996],\n",
    "})\n",
    "\n"
   ]
  },
  {
   "cell_type": "code",
   "execution_count": 44,
   "metadata": {},
   "outputs": [
    {
     "name": "stdout",
     "output_type": "stream",
     "text": [
      "Transformed New Data:\n",
      "     year  floor_area_sqm  range_numeric  lease_commence_date  \\\n",
      "0  2100.0        0.167187       -1.17848               1996.0   \n",
      "\n",
      "   remaining_lease  flat_type_2 ROOM  flat_type_3 ROOM  flat_type_4 ROOM  \\\n",
      "0        -0.919453               0.0               0.0               0.0   \n",
      "\n",
      "   flat_type_5 ROOM  flat_type_EXECUTIVE  flat_type_MULTI-GENERATION  \\\n",
      "0               1.0                  0.0                         0.0   \n",
      "\n",
      "   district_East  district_North  district_North-East  district_West  \n",
      "0            1.0             0.0                  0.0            0.0  \n"
     ]
    }
   ],
   "source": [
    "# Load the preprocessor and transform the new data\n",
    "loaded_preprocessor = joblib.load('preprocessor.pkl')\n",
    "transformed_new_data = loaded_preprocessor.transform(new_data)\n",
    "# Extract feature names from the transformers\n",
    "categorical_columns = ['district', 'flat_type']\n",
    "numerical_columns = ['remaining_lease', 'floor_area_sqm', 'range_numeric']\n",
    "\n",
    "num_feature_names = numerical_columns\n",
    "cat_feature_names = preprocessor.named_transformers_['cat'].get_feature_names_out(categorical_columns)\n",
    "remainder_feature_names = [col for col in new_data.columns if col not in numerical_columns + categorical_columns]\n",
    "\n",
    "# Combine all feature names\n",
    "all_feature_names = list(num_feature_names) + list(cat_feature_names) + remainder_feature_names\n",
    "\n",
    "# Create a DataFrame with feature names\n",
    "transformed_new_data = pd.DataFrame(transformed_new_data, columns=all_feature_names)\n",
    "transformed_new_data = transformed_new_data[['year', 'floor_area_sqm', 'range_numeric', 'lease_commence_date',\n",
    "       'remaining_lease', 'flat_type_2 ROOM', 'flat_type_3 ROOM',\n",
    "       'flat_type_4 ROOM', 'flat_type_5 ROOM', 'flat_type_EXECUTIVE',\n",
    "       'flat_type_MULTI-GENERATION', 'district_East', 'district_North',\n",
    "       'district_North-East', 'district_West']]\n",
    "print(\"Transformed New Data:\")\n",
    "print(transformed_new_data)"
   ]
  },
  {
   "cell_type": "code",
   "execution_count": 45,
   "metadata": {},
   "outputs": [
    {
     "name": "stdout",
     "output_type": "stream",
     "text": [
      "Resale Valuation\n",
      "[666366.80964031]\n"
     ]
    }
   ],
   "source": [
    "model = joblib.load('price_prediction_model_all.pkl')\n",
    "y_pred = model.predict(transformed_new_data)\n",
    "print(\"Resale Valuation\")\n",
    "print(y_pred)"
   ]
  },
  {
   "cell_type": "code",
   "execution_count": null,
   "metadata": {},
   "outputs": [],
   "source": [
    "#District Mapping\n",
    "\n",
    "district_mapping = {\n",
    "    'ANG MO KIO': 'North-East',\n",
    "    'BEDOK': 'East',\n",
    "    'BISHAN': 'Central',\n",
    "    'BUKIT BATOK': 'West',\n",
    "    'BUKIT MERAH': 'Central',\n",
    "    'BUKIT TIMAH': 'Central',\n",
    "    'CENTRAL AREA': 'Central',\n",
    "    'CHOA CHU KANG': 'West',\n",
    "    'CLEMENTI': 'West',\n",
    "    'GEYLANG': 'Central',\n",
    "    'HOUGANG': 'North-East',\n",
    "    'JURONG EAST': 'West',\n",
    "    'JURONG WEST': 'West',\n",
    "    'KALLANG_WHAMPOA': 'Central',\n",
    "    'MARINE PARADE': 'East',\n",
    "    'QUEENSTOWN': 'Central',\n",
    "    'SENGKANG': 'North-East',\n",
    "    'SERANGOON': 'North-East',\n",
    "    'TAMPINES': 'East',\n",
    "    'TOA PAYOH': 'Central',\n",
    "    'WOODLANDS': 'North',\n",
    "    'YISHUN': 'North',\n",
    "    'LIM CHU KANG': 'West',\n",
    "    'SEMBAWANG': 'North',\n",
    "    'BUKIT PANJANG': 'West',\n",
    "    'PASIR RIS': 'East',\n",
    "    'PUNGGOL': 'North-East',\n",
    "}\n",
    "\n"
   ]
  }
 ],
 "metadata": {
  "kernelspec": {
   "display_name": "base",
   "language": "python",
   "name": "python3"
  },
  "language_info": {
   "codemirror_mode": {
    "name": "ipython",
    "version": 3
   },
   "file_extension": ".py",
   "mimetype": "text/x-python",
   "name": "python",
   "nbconvert_exporter": "python",
   "pygments_lexer": "ipython3",
   "version": "3.11.7"
  }
 },
 "nbformat": 4,
 "nbformat_minor": 2
}
