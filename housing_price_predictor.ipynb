{
 "cells": [
  {
   "cell_type": "code",
   "execution_count": 2,
   "metadata": {},
   "outputs": [],
   "source": [
    "import numpy as np \n",
    "import matplotlib.pyplot as pyplot\n",
    "import pandas as pd\n",
    "import streamlit as st\n",
    "import joblib \n",
    "from sklearn.compose import ColumnTransformer\n",
    "from sklearn.preprocessing import OneHotEncoder, StandardScaler\n",
    "from sklearn.pipeline import Pipeline"
   ]
  },
  {
   "cell_type": "code",
   "execution_count": 8,
   "metadata": {},
   "outputs": [],
   "source": [
    "data = pd.read_csv('dataset/housing_new.csv')\n",
    "\n"
   ]
  },
  {
   "cell_type": "code",
   "execution_count": 9,
   "metadata": {},
   "outputs": [
    {
     "data": {
      "text/plain": [
       "Index(['flat_type', 'floor_area_sqm', 'lease_commence_date', 'resale_price',\n",
       "       'district', 'range_numeric', 'new_date'],\n",
       "      dtype='object')"
      ]
     },
     "execution_count": 9,
     "metadata": {},
     "output_type": "execute_result"
    }
   ],
   "source": [
    "data = data.drop(columns=['Unnamed: 0', 'Unnamed: 0.1'])\n",
    "data.columns\n"
   ]
  },
  {
   "cell_type": "code",
   "execution_count": 10,
   "metadata": {},
   "outputs": [],
   "source": [
    "data = data[['new_date','flat_type', 'district', 'range_numeric' ,'floor_area_sqm', 'lease_commence_date','resale_price']]"
   ]
  },
  {
   "cell_type": "code",
   "execution_count": 11,
   "metadata": {},
   "outputs": [
    {
     "name": "stdout",
     "output_type": "stream",
     "text": [
      "           new_date flat_type    district  range_numeric  floor_area_sqm  \\\n",
      "0       1990.083333    1 ROOM  North-East           11.0            31.0   \n",
      "1       1990.083333    1 ROOM  North-East            5.0            31.0   \n",
      "2       1990.083333    1 ROOM  North-East           11.0            31.0   \n",
      "3       1990.083333    1 ROOM  North-East            8.0            31.0   \n",
      "4       1990.083333    3 ROOM  North-East            5.0            73.0   \n",
      "...             ...       ...         ...            ...             ...   \n",
      "869640  2024.916667    5 ROOM       North            2.0           121.0   \n",
      "869641  2024.916667    5 ROOM       North            8.0           135.0   \n",
      "869642  2024.916667    5 ROOM       North            8.0           112.0   \n",
      "869643  2024.916667    5 ROOM       North           11.0           113.0   \n",
      "869644  2024.916667    5 ROOM       North            2.0           122.0   \n",
      "\n",
      "        lease_commence_date  resale_price  \n",
      "0                      1977        9000.0  \n",
      "1                      1977        6000.0  \n",
      "2                      1977        8000.0  \n",
      "3                      1977        6000.0  \n",
      "4                      1976       47200.0  \n",
      "...                     ...           ...  \n",
      "869640                 1985      608000.0  \n",
      "869641                 1985      686000.0  \n",
      "869642                 2015      700000.0  \n",
      "869643                 2017      720000.0  \n",
      "869644                 1988      670000.0  \n",
      "\n",
      "[869645 rows x 7 columns]\n"
     ]
    }
   ],
   "source": [
    "print(data)"
   ]
  },
  {
   "cell_type": "code",
   "execution_count": 12,
   "metadata": {},
   "outputs": [
    {
     "data": {
      "text/plain": [
       "['preprocessor_data.pkl']"
      ]
     },
     "execution_count": 12,
     "metadata": {},
     "output_type": "execute_result"
    }
   ],
   "source": [
    "\n",
    "# Define categorical and numerical columns\n",
    "categorical_columns = ['district', 'flat_type']\n",
    "numerical_columns = [ 'floor_area_sqm', 'range_numeric']\n",
    "\n",
    "# Define transformers\n",
    "categorical_transformer = OneHotEncoder(drop = 'first',sparse_output=False, handle_unknown='ignore')\n",
    "numerical_transformer = StandardScaler()\n",
    "\n",
    "# Combine into a ColumnTransformer\n",
    "preprocessor = ColumnTransformer(    \n",
    "    transformers=[\n",
    "        ('num', numerical_transformer, numerical_columns),\n",
    "        ('cat', categorical_transformer, categorical_columns)\n",
    "    ],\n",
    "    remainder= 'passthrough'\n",
    "\n",
    ")\n",
    "\n",
    "# Fit the preprocessor on the full dataset\n",
    "preprocessor.fit(data)\n",
    "\n",
    "# Save the preprocessor for future use\n",
    "joblib.dump(preprocessor, 'preprocessor_data.pkl')\n",
    "\n",
    "\n",
    " "
   ]
  },
  {
   "cell_type": "code",
   "execution_count": 51,
   "metadata": {},
   "outputs": [],
   "source": [
    "# Transform an example new data point\n",
    "new_data = pd.DataFrame({\n",
    "    'new_date' : 2024,\n",
    "    'flat_type': ['4 ROOM'],\n",
    "    'district': ['East'],\n",
    "    'range_numeric': [12],\n",
    "    'floor_area_sqm': [105],    \n",
    "    'lease_commence_date': [1995],\n",
    "})\n",
    "\n"
   ]
  },
  {
   "cell_type": "code",
   "execution_count": 27,
   "metadata": {},
   "outputs": [],
   "source": [
    "loaded_preprocessor = joblib.load('preprocessor_predictor.pkl')"
   ]
  },
  {
   "cell_type": "code",
   "execution_count": 52,
   "metadata": {},
   "outputs": [
    {
     "name": "stdout",
     "output_type": "stream",
     "text": [
      "Transformed New Data:\n",
      "   floor_area_sqm  range_numeric  district_East  district_North  \\\n",
      "0        0.615177       0.867699            1.0             0.0   \n",
      "\n",
      "   district_North-East  district_West  flat_type_2 ROOM  flat_type_3 ROOM  \\\n",
      "0                  0.0            0.0               0.0               0.0   \n",
      "\n",
      "   flat_type_4 ROOM  flat_type_5 ROOM  new_date  lease_commence_date  \n",
      "0               1.0               0.0    2024.0               1995.0  \n"
     ]
    }
   ],
   "source": [
    "# Load the preprocessor and transform the new data\n",
    "transformed_new_data = loaded_preprocessor.transform(new_data)\n",
    "# Extract feature names from the transformers\n",
    "categorical_columns = ['district', 'flat_type']\n",
    "numerical_columns = ['floor_area_sqm', 'range_numeric']\n",
    "\n",
    "num_feature_names = numerical_columns\n",
    "cat_feature_names = preprocessor.named_transformers_['cat'].get_feature_names_out(categorical_columns)\n",
    "remainder_feature_names = [col for col in new_data.columns if col not in numerical_columns + categorical_columns]\n",
    "\n",
    "# Combine all feature names\n",
    "all_feature_names = list(num_feature_names) + list(cat_feature_names) + remainder_feature_names\n",
    "\n",
    "# Create a DataFrame with feature names\n",
    "transformed_new_data = pd.DataFrame(transformed_new_data, columns=all_feature_names)\n",
    "print(\"Transformed New Data:\")\n",
    "print(transformed_new_data)"
   ]
  },
  {
   "cell_type": "code",
   "execution_count": 54,
   "metadata": {},
   "outputs": [],
   "source": [
    "model_rf = joblib.load('models/new_model_rf.pkl')\n",
    "model_xgb = joblib.load('models/new_model_xgb.pkl')\n",
    "model_cat = joblib.load('models/new_model_cat.pkl')"
   ]
  },
  {
   "cell_type": "code",
   "execution_count": 55,
   "metadata": {},
   "outputs": [],
   "source": [
    "best_weight = [0.32,0.23,0.45]"
   ]
  },
  {
   "cell_type": "code",
   "execution_count": 56,
   "metadata": {},
   "outputs": [
    {
     "name": "stdout",
     "output_type": "stream",
     "text": [
      "Resale Valuation\n",
      "[587081.96636163]\n"
     ]
    }
   ],
   "source": [
    "\n",
    "y_pred = model_xgb.predict(transformed_new_data)*best_weight[0]+ model_rf.predict(transformed_new_data)*best_weight[1] +model_cat.predict(transformed_new_data)*best_weight[2]\n",
    "print(\"Resale Valuation\")\n",
    "print(y_pred)"
   ]
  },
  {
   "cell_type": "code",
   "execution_count": null,
   "metadata": {},
   "outputs": [],
   "source": [
    "#District Mapping\n",
    "\n",
    "district_mapping = {\n",
    "    'ANG MO KIO': 'North-East',\n",
    "    'BEDOK': 'East',\n",
    "    'BISHAN': 'Central',\n",
    "    'BUKIT BATOK': 'West',\n",
    "    'BUKIT MERAH': 'Central',\n",
    "    'BUKIT TIMAH': 'Central',\n",
    "    'CENTRAL AREA': 'Central',\n",
    "    'CHOA CHU KANG': 'West',\n",
    "    'CLEMENTI': 'West',\n",
    "    'GEYLANG': 'Central',\n",
    "    'HOUGANG': 'North-East',\n",
    "    'JURONG EAST': 'West',\n",
    "    'JURONG WEST': 'West',\n",
    "    'KALLANG_WHAMPOA': 'Central',\n",
    "    'MARINE PARADE': 'East',\n",
    "    'QUEENSTOWN': 'Central',\n",
    "    'SENGKANG': 'North-East',\n",
    "    'SERANGOON': 'North-East',\n",
    "    'TAMPINES': 'East',\n",
    "    'TOA PAYOH': 'Central',\n",
    "    'WOODLANDS': 'North',\n",
    "    'YISHUN': 'North',\n",
    "    'LIM CHU KANG': 'West',\n",
    "    'SEMBAWANG': 'North',\n",
    "    'BUKIT PANJANG': 'West',\n",
    "    'PASIR RIS': 'East',\n",
    "    'PUNGGOL': 'North-East',\n",
    "}\n",
    "\n"
   ]
  }
 ],
 "metadata": {
  "kernelspec": {
   "display_name": "base",
   "language": "python",
   "name": "python3"
  },
  "language_info": {
   "codemirror_mode": {
    "name": "ipython",
    "version": 3
   },
   "file_extension": ".py",
   "mimetype": "text/x-python",
   "name": "python",
   "nbconvert_exporter": "python",
   "pygments_lexer": "ipython3",
   "version": "3.11.7"
  }
 },
 "nbformat": 4,
 "nbformat_minor": 2
}
